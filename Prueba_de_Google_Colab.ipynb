{
  "nbformat": 4,
  "nbformat_minor": 0,
  "metadata": {
    "colab": {
      "provenance": [],
      "collapsed_sections": [
        "IJrVAIs4aPow",
        "DS7YNuUlc6Ig",
        "DuS1nyPwg_Sm",
        "lVY85lAwspPo",
        "ijDuq3XkF8th",
        "Pv-m_bAxROXI"
      ],
      "toc_visible": true
    },
    "kernelspec": {
      "name": "python3",
      "display_name": "Python 3"
    },
    "language_info": {
      "name": "python"
    }
  },
  "cells": [
    {
      "cell_type": "markdown",
      "source": [
        "# Cuadernos de Jupyter\n",
        "\n",
        "> Como tu propio cuaderno de apuntes y de clases\n",
        "\n"
      ],
      "metadata": {
        "id": "IJrVAIs4aPow"
      }
    },
    {
      "cell_type": "markdown",
      "source": [
        "Un cuaderno de Jupyter (Python Notebook) es una aplicación web, que funciona dentro de un servicio de código abierto llamado Laboratorio de Jupyter (jupyterlab) que se puede utilizar para crear y compartir documentos que contienen código activo de python, ecuaciones, visualizaciones y texto narrativo."
      ],
      "metadata": {
        "id": "CEo5n-jeaOzN"
      }
    },
    {
      "cell_type": "markdown",
      "source": [
        "O sea que es como un cuaderno normal de un estudiante... pero con la potencia de poder ejecutar programas... programas en Python 😉"
      ],
      "metadata": {
        "id": "FKGkh29abIwl"
      }
    },
    {
      "cell_type": "markdown",
      "source": [
        "Puedes acceder a crear tus propios cuadernos desde [Google Colab](https://colab.research.google.com/)... es cierto, ya estás acá 😎"
      ],
      "metadata": {
        "id": "EsmaysuxcMCC"
      }
    },
    {
      "cell_type": "markdown",
      "source": [
        "# ¿Qué se puede hacer?"
      ],
      "metadata": {
        "id": "DS7YNuUlc6Ig"
      }
    },
    {
      "cell_type": "markdown",
      "source": [
        "Puedes crear muchas cosas, para ello se realiza agregando bloques, los bloques pueden ser de texto, o pueden ser de código... ¿O tal vez pueden ser de muchas más cosas? ¡Habrá que descubrirlo!"
      ],
      "metadata": {
        "id": "avpQ-H1cdD9h"
      }
    },
    {
      "cell_type": "markdown",
      "source": [
        "Si haces clic sobre este texto, verás el recuadro donde está contenido, eso es un bloque\n"
      ],
      "metadata": {
        "id": "6feE2Ar_daju"
      }
    },
    {
      "cell_type": "markdown",
      "source": [
        "Y si posicionas el cursor de tu ratón sobre el área central del recuadro, en la parte inferior podrás ver dos botones, uno que indica poder añadir un bloque de texto, y el otro que indica que puede añadirse un bloque de código"
      ],
      "metadata": {
        "id": "8y1rrGxFd31n"
      }
    },
    {
      "cell_type": "markdown",
      "source": [
        "¿Quieres añadir uno?... ¿Qué esperas?... ¡Dale clic en el que permite añadir texto!... y agrega el texto que quieras."
      ],
      "metadata": {
        "id": "Ycr7WBK_eMb_"
      }
    },
    {
      "cell_type": "markdown",
      "source": [
        "¡Muy bien!... has añadido un texto, verás que al dar clic o doble clic sobre los bloques, aparecerán controles sobre el bloque que permiten facilitarte la edición"
      ],
      "metadata": {
        "id": "f2j09MKvenkY"
      }
    },
    {
      "cell_type": "markdown",
      "source": [
        "¿Quieres poner un bloque de código, verdad?... ¡Dale!... pero hay que poner código en python... prueba poner esto dentro del bloque:\n",
        "\n",
        "`print(\"Yo quiero programar en python\")`"
      ],
      "metadata": {
        "id": "S_Nh-rv3e50I"
      }
    },
    {
      "cell_type": "markdown",
      "source": [
        "Cuando un bloque de código se crea, puedes ejecutarlo... ¡Exacto¡... con el símbolo de play ▶ que aparece al lado izquierdo del bloque"
      ],
      "metadata": {
        "id": "omKG53J0fxV9"
      }
    },
    {
      "cell_type": "markdown",
      "source": [
        "Cada vez que ejecutes un bloque de código, mostrará (o posiblemente no) un texto de salida en la parte inferior del bloque"
      ],
      "metadata": {
        "id": "rzvtcGtUgMyC"
      }
    },
    {
      "cell_type": "markdown",
      "source": [
        "Pero si el código escrito tiene errores, podrás ver los errores en ese mismo texto en la parte inferior el bloque... no es malo equivocarse, es bueno que pase, nos hace mejorar nuestras habilidades para programar, solo hay que leer el error y tratar de corregir el código de acuerdo a como lo indique el mensaje mostrado"
      ],
      "metadata": {
        "id": "jb5wuSPTgY12"
      }
    },
    {
      "cell_type": "markdown",
      "source": [
        "# Codificando"
      ],
      "metadata": {
        "id": "DuS1nyPwg_Sm"
      }
    },
    {
      "cell_type": "markdown",
      "source": [
        "Ya es momento, empecemos creando un bloque de código debajo de este y coloca este código:\n",
        "\n",
        "`print(\"Hola mundo!\")`\n",
        "\n",
        "¿Qué?... ¿Ya lo habías echo?... ok, pero es divertido hacerlo"
      ],
      "metadata": {
        "id": "pGJE3k1mhGuH"
      }
    },
    {
      "cell_type": "markdown",
      "source": [
        "print() es una función de python que permite mostrar contenido, los tipos de contenidos... ¿Cómo?... !Ah sí!... los tipos de datos"
      ],
      "metadata": {
        "id": "skT8z-ePhqr0"
      }
    },
    {
      "cell_type": "markdown",
      "source": [
        "¿Con qué ya sabes a qué se refiere eso de los tipos de datos? Bueno puedes probar más código, prueba operar valores numéricos añadiendo más bloques y ejecutándolos con play ▶:\n",
        "\n",
        "Suma:\n",
        "`print( 37 + 24 )`\n",
        "\n",
        "Resta:\n",
        "`print( - 46 - 75 )`\n",
        "\n",
        "Multiplicación:\n",
        "`print( 11 * 43 )`\n",
        "\n",
        "División:\n",
        "`print( 17 / 5 )`\n",
        "\n",
        "División entera :\n",
        "`print( 17 // 5 )`\n",
        "\n",
        "Residuo:\n",
        "`print( 11 % 3 )`\n",
        "\n",
        "Potenciación:\n",
        "`print( 8 ** 2 )`\n",
        "\n",
        "Radicación (de manera ingeniosa):\n",
        "`print( 64 ** (1 / 2) )`"
      ],
      "metadata": {
        "id": "Zy7Ri7EPiAd2"
      }
    },
    {
      "cell_type": "markdown",
      "source": [
        "Igual existen operaciones conocidas para los tipos de datos lógicos:\n",
        "\n",
        "La operación o (or)\n",
        "`print(True or False)`\n",
        "\n",
        "La operación y (and)\n",
        "`print(True and False)`\n",
        "\n",
        "La operación no (not)\n",
        "`print(not False)`"
      ],
      "metadata": {
        "id": "63AuS4qIkryy"
      }
    },
    {
      "cell_type": "markdown",
      "source": [
        "¡Sigue añadiendo!... para eso está el cuaderno"
      ],
      "metadata": {
        "id": "qzPa0Sn_lYDk"
      }
    },
    {
      "cell_type": "markdown",
      "source": [
        "Para facilitar ciertas operaciones, podemos usar variables:\n",
        "\n",
        "```\n",
        "jocotes = 5\n",
        "caimitos = 9\n",
        "ensalada = jocotes + caimitos\n",
        "miNombre = \"Esteban Quito\"\n",
        "trompos,capiruchos = 7,4\n",
        "\n",
        "print(caimitos)\n",
        "print(capiruchos)\n",
        "print(f\"Escribir un nombre: {miNombre} y un número: {ensalada}\")\n",
        "```\n",
        "\n"
      ],
      "metadata": {
        "id": "kQE7rcAdluR2"
      }
    },
    {
      "cell_type": "markdown",
      "source": [
        "¿Qué sería de un programa si no podemos introducir datos?\n",
        "\n",
        "```\n",
        "numero_x=input(\"Digite un numero > \")\n",
        "print(f\"Usted introdujo el número {numero_x}\")\n",
        "```\n",
        "\n"
      ],
      "metadata": {
        "id": "513iwsCglixq"
      }
    },
    {
      "cell_type": "markdown",
      "source": [
        "# Estrucuras básicas"
      ],
      "metadata": {
        "id": "lVY85lAwspPo"
      }
    },
    {
      "cell_type": "markdown",
      "source": [
        "Pues, en python el orden del código es importante, los espacios al inicio de una instrucción indican que pertenece a la estructura que lo contiene\n",
        "\n",
        "Así se hace una bifurcación sencilla... sí eso de las condiciones\n",
        "\n",
        "\n",
        "```\n",
        "if True :\n",
        "    print(\"Verdadero\")\n",
        "```\n",
        "\n",
        "\n"
      ],
      "metadata": {
        "id": "_fFSg4I9syZS"
      }
    },
    {
      "cell_type": "markdown",
      "source": [
        "\n",
        "Pero la estructura puede tener un caso para cuando no se cumpla la condición:\n",
        "```\n",
        "if False :\n",
        "    print(\"Esto no se imprime\")\n",
        "else :\n",
        "    print(\"Esto si se imprime\")\n",
        "```"
      ],
      "metadata": {
        "id": "SHBWad1jy50Z"
      }
    },
    {
      "cell_type": "markdown",
      "source": [
        "O puede ser el resultado de una pregunta con operaciones mixtas:\n",
        "```\n",
        "numero_x = -8\n",
        "\n",
        "if numero_x * -1 > 0 :\n",
        "    print(f\"El número {numero_x} es negativo\")\n",
        "```"
      ],
      "metadata": {
        "id": "EhsgP1UpzGQo"
      }
    },
    {
      "cell_type": "markdown",
      "source": [
        "La selección de casos no es como la acostumbrada, pero puede hacerse:\n",
        "```\n",
        "opcion = input(\"Introduzca una letra entre a, b, c : \" )\n",
        "if opcion == \"a\" :\n",
        "    print(\"Usted introdujo la primera letra\")\n",
        "elif opcion == \"b\" :\n",
        "    print(\"La opción decidida fue la segunda letra\")\n",
        "elif opcion == \"c\" :\n",
        "    print(\"Seleccionó la última letra\")\n",
        "else :\n",
        "    print(\"Esa opción no se le ofreció\")\n",
        "```"
      ],
      "metadata": {
        "id": "oA7pcLQW0KKz"
      }
    },
    {
      "cell_type": "markdown",
      "source": [
        "También existen los bucles... lazos... secuencias repetitivas. ¿Cómo les dices tú?\n",
        "\n",
        "Bucle hacer mientras:\n",
        "```\n",
        "c = 1\n",
        "while c < 10 :\n",
        "    print(f\"c vale = {c}\")\n",
        "    c = c + 1\n",
        "```"
      ],
      "metadata": {
        "id": "YIEF7GAMubXZ"
      }
    },
    {
      "cell_type": "markdown",
      "source": [
        "\n",
        "Bucle iterativo... bucle for:\n",
        "```\n",
        "for c in range( 1 , 10 ) :\n",
        "     print(f\"c vale = {c}\")\n",
        "```"
      ],
      "metadata": {
        "id": "keiDHfIwzSXM"
      }
    },
    {
      "cell_type": "markdown",
      "source": [
        "# Listas unidimencionales y multidimencionales"
      ],
      "metadata": {
        "id": "ijDuq3XkF8th"
      }
    },
    {
      "cell_type": "markdown",
      "source": [
        "En ocasiones queremos representar una lista de elementos, como la lista de los mandados, pero iniciemos con un ejemplo de una lista simple :\n",
        "\n",
        "```\n",
        "tortugas = [\"Leo\",\"Rafa\",\"Don\",\"Mikey\"]\n",
        "print(tortugas[0])\n",
        "print(tortugas[3])\n",
        "```"
      ],
      "metadata": {
        "id": "CX8b_JqKGZf5"
      }
    },
    {
      "cell_type": "markdown",
      "source": [
        "Los elementos de una lista, a menos que se indique, son identificados por su posición... pero las posiciones inician en el valor 0 :\n",
        "\n",
        "```\n",
        "fechas = [1980,1990,2000,2010,2020]\n",
        "print(fechas[2])\n",
        "```"
      ],
      "metadata": {
        "id": "nxga3kFnJ-kI"
      }
    },
    {
      "cell_type": "markdown",
      "source": [
        "Los textos también son listas, y poseen indice de la ubicación de sus caracteres :\n",
        "\n",
        "```\n",
        "palabra = \"parangacutirimicuaro\"\n",
        "print(palabra[9])\n",
        "```"
      ],
      "metadata": {
        "id": "cE6Q2AWPNtB1"
      }
    },
    {
      "cell_type": "markdown",
      "source": [
        "Si es necesario, se puede colocar en cada elemento de una lista a otra lista... agregando más dimensiones :\n",
        "\n",
        "```\n",
        "cuadro = [[0,0],[0,5],[5,5],[5,0]]\n",
        "print(cuadro[3])\n",
        "print(cuadro[3][0])\n",
        "```"
      ],
      "metadata": {
        "id": "5mNf4VfmMIru"
      }
    },
    {
      "cell_type": "markdown",
      "source": [
        "# Funciones"
      ],
      "metadata": {
        "id": "Pv-m_bAxROXI"
      }
    },
    {
      "cell_type": "markdown",
      "source": [
        "Una función es algo útil, es un pequeño algoritmo que reduce con una palabra una secuencia de instrucciones... o nos ayuda a complicarnos menos :\n",
        "\n",
        "```\n",
        "def imprimir( valor ) :\n",
        "    print( valor )\n",
        "\n",
        "imprimir(\"¡Hola! ¿Qué hace?\")\n",
        "pokemon = \"Blastoise\"\n",
        "imprimir(f\"¡Hola {pokemon}!\")\n",
        "```"
      ],
      "metadata": {
        "id": "9jpgF8JXRchF"
      }
    },
    {
      "cell_type": "markdown",
      "source": [
        "Una función tambien puede devolver valores con la palabra clave *return* :\n",
        "\n",
        "```\n",
        "def suma( n ) :\n",
        "   k = n * ( n + 1 ) // 2\n",
        "   return int( k )\n",
        "\n",
        "limite = 100\n",
        "total = suma( limite )\n",
        "print(f\"La suma desde 1 hasta {limite} es {total}\")\n",
        "    \n",
        "```\n"
      ],
      "metadata": {
        "id": "Yh2uYcBMUHCw"
      }
    },
    {
      "cell_type": "markdown",
      "source": [
        "# Travesuras en Google Colab"
      ],
      "metadata": {
        "id": "VbiaTPYdZ6pb"
      }
    },
    {
      "cell_type": "markdown",
      "source": [
        "Cuando se ejecuta código en Google Colab el cuaderno se conectaa una máquina virtual y utiliza una unidad de CPU de google por cierto tiempo... pero no nos asegura por cuanto tiempo podremos usar la unidad... es parte del negocio 🤓"
      ],
      "metadata": {
        "id": "QphMM2QcaD5j"
      }
    },
    {
      "cell_type": "markdown",
      "source": [
        "Pero ya que es una máquina virtual, hay cosas interesantes que se pueden hacer como ejecutar comandos e instalar cosas en la máquina virtual... aunque sea temporalmente mientras nos permite usar la unidad asignada"
      ],
      "metadata": {
        "id": "0LlP0XYjbR3X"
      }
    },
    {
      "cell_type": "markdown",
      "source": [
        "Podemos listar carpetas y archvivos con el comando *ls* :\n",
        "\n",
        "`!ls /`"
      ],
      "metadata": {
        "id": "vrix3RYQb2O7"
      }
    },
    {
      "cell_type": "markdown",
      "source": [
        "Descubriremos que la máquina es un GNU/Linux, podemos consultar la versión con *cat*:\n",
        "```\n",
        "!cat /etc/os-release\n",
        "!cat /etc/debian_version\n",
        "```"
      ],
      "metadata": {
        "id": "39oMhaxzcD3j"
      }
    },
    {
      "cell_type": "markdown",
      "source": [
        "Existen muchas mas cosas por hacer y descubrir, hay que aprovechar la herramienta, y compartirla con mas, pero en este ejercicio hemos finalizado"
      ],
      "metadata": {
        "id": "3EbGISA3ckNy"
      }
    }
  ]
}
