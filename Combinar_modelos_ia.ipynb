{
  "nbformat": 4,
  "nbformat_minor": 0,
  "metadata": {
    "colab": {
      "provenance": [],
      "gpuType": "T4",
      "collapsed_sections": [
        "Vt7Txl5ycuBN"
      ]
    },
    "kernelspec": {
      "name": "python3",
      "display_name": "Python 3"
    },
    "language_info": {
      "name": "python"
    },
    "accelerator": "GPU"
  },
  "cells": [
    {
      "cell_type": "markdown",
      "source": [
        "# Combinando un par de modelos"
      ],
      "metadata": {
        "id": "Vt7Txl5ycuBN"
      }
    },
    {
      "cell_type": "code",
      "source": [
        "!pip install sacremoses"
      ],
      "metadata": {
        "id": "dRc0oxrRcrch"
      },
      "execution_count": null,
      "outputs": []
    },
    {
      "cell_type": "code",
      "execution_count": null,
      "metadata": {
        "id": "-Sqrtpf1olmW"
      },
      "outputs": [],
      "source": [
        "# Librerías Generales a utilizar\n",
        "import torch\n",
        "import os\n",
        "from IPython.display import Image\n",
        "\n",
        "# Librería de modelo opus de Helsinki\n",
        "from transformers import AutoTokenizer as AT, MarianMTModel as MT\n",
        "\n",
        "# Librería para Stable Diffusion\n",
        "from diffusers import StableDiffusionPipeline as SDP"
      ]
    },
    {
      "cell_type": "code",
      "source": [
        "# Descargar y configuración del modelo de traducción\n",
        "nombreDeModelo = f\"Helsinki-NLP/opus-mt-es-en\"\n",
        "traductor = MT.from_pretrained(nombreDeModelo)\n",
        "tokenizador = AT.from_pretrained(nombreDeModelo)"
      ],
      "metadata": {
        "id": "H2rXp0afNKpx"
      },
      "execution_count": null,
      "outputs": []
    },
    {
      "cell_type": "code",
      "source": [
        "# Descarga de modelo preentrenado de Stable Difussion\n",
        "model_id = \"stable-diffusion-v1-5/stable-diffusion-v1-5\"\n",
        "sd_pipeline = SDP.from_pretrained(\n",
        "    model_id,\n",
        "    torch_dtype=torch.float16\n",
        ")\n",
        "sd_pipeline = sd_pipeline.to( \"cuda\" )"
      ],
      "metadata": {
        "id": "8KwEQRkzpwKg"
      },
      "execution_count": null,
      "outputs": []
    },
    {
      "cell_type": "code",
      "source": [
        "# función que facilitará la solicitud de traducción\n",
        "def opus_traduce( texto_a_traducir ):\n",
        "    tokens = tokenizador.tokenize( texto_a_traducir )\n",
        "    lote = tokenizador( texto_a_traducir, return_tensors=\"pt\")\n",
        "    identificadores = traductor.generate(**lote)\n",
        "    traduccion = tokenizador.batch_decode(\n",
        "        identificadores,\n",
        "        skip_special_tokens=True\n",
        "    )\n",
        "    return traduccion[0]"
      ],
      "metadata": {
        "id": "K7lPR2PJNjlv"
      },
      "execution_count": null,
      "outputs": []
    },
    {
      "cell_type": "code",
      "source": [
        "# Función que faicilitará la generación de imágenes\n",
        "def generar_imagen( descripcion ) :\n",
        "    lo_que_no_queremos = \"\"\"\n",
        "    Bad anatomy,Bad hands,Amputee,Missing fingers,Missing hands,Missing limbs,\n",
        "    Missing arms,Extra fingers,Extra hands,Extra limbs,Mutated hands,Mutated,\n",
        "    Mutation,Multiple heads,Malformed limbs,Disfigured,Poorly drawn hands,\n",
        "    Poorly drawn face,Long neck,Fused fingers,Fused hands,Dismembered,\n",
        "    Duplicate,Improper scale,Ugly body,Cloned face,Cloned body,Error,\n",
        "    Gross proportions,Body horror,Too many fingers,simple_background,Pixelated,\n",
        "    Croped,Out of frame,Out of focus,Dehydrated,lowest quality,Collage,Pixel,\n",
        "    Bad proportions,extra digits,lowers,username,Disfigured,Disgusting,\n",
        "    Low res,Low quality,Jpeg,Jpeg artifacts,artist name,error,watermark,\n",
        "    signature,text,mutated hands,extra digit,fewer digits,worst quality,blury\n",
        "    \"\"\"\n",
        "    generado = sd_pipeline(\n",
        "        descripcion,\n",
        "        negative_prompt = lo_que_no_queremos\n",
        "    )\n",
        "    return generado.images[0]"
      ],
      "metadata": {
        "id": "UtIdjd26sUPW"
      },
      "execution_count": null,
      "outputs": []
    },
    {
      "cell_type": "code",
      "source": [
        "# probar la traducción\n",
        "prueba_texto = \"\"\"\n",
        "imagen con estilo de pintura Van Gogh de un hombre mago,\n",
        "de temática medieval, usando una toga gris y barba larga,\n",
        "sosteniendo un báculo brillante en su mano derecha,\n",
        "caminando por un bosque en la noche\n",
        "\"\"\"\n",
        "texto_traducido = opus_traduce( prueba_texto )\n",
        "print( f\"Español:\\n{prueba_texto}\"    )\n",
        "print( f\"Inlgés :\\n{texto_traducido}\" )"
      ],
      "metadata": {
        "id": "AnS1gJd_sA-4"
      },
      "execution_count": null,
      "outputs": []
    },
    {
      "cell_type": "code",
      "source": [
        "# usar la traducción para generar la imagen\n",
        "prueba_imagen = texto_traducido\n",
        "imagen_generada = generar_imagen( prueba_imagen )\n",
        "imagen_generada.save( \"./mi_creacion.jpg\" )\n",
        "Image(\"./mi_creacion.jpg\")"
      ],
      "metadata": {
        "id": "FXbkToJesxQr"
      },
      "execution_count": null,
      "outputs": []
    }
  ]
}