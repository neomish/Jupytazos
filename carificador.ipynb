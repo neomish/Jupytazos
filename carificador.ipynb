{
  "nbformat": 4,
  "nbformat_minor": 0,
  "metadata": {
    "colab": {
      "provenance": [],
      "collapsed_sections": [
        "W3XCrmcVeTk_"
      ],
      "gpuType": "T4"
    },
    "kernelspec": {
      "name": "python3",
      "display_name": "Python 3"
    },
    "language_info": {
      "name": "python"
    },
    "accelerator": "GPU"
  },
  "cells": [
    {
      "cell_type": "markdown",
      "source": [
        "# Una aplicación dentro de la máquina virtual"
      ],
      "metadata": {
        "id": "W3XCrmcVeTk_"
      }
    },
    {
      "cell_type": "code",
      "execution_count": null,
      "metadata": {
        "id": "SBDdiW7Td2I3"
      },
      "outputs": [],
      "source": [
        "# Clonar el repositorio\n",
        "!git clone https://github.com/s0md3v/roop"
      ]
    },
    {
      "cell_type": "code",
      "source": [
        "# Entrar a la carpeta del repositorio clonado\n",
        "%cd roop"
      ],
      "metadata": {
        "id": "RaORpoFVe3Bh"
      },
      "execution_count": null,
      "outputs": []
    },
    {
      "cell_type": "code",
      "source": [
        "# Crear una carpeta para separar las imagenes a procesar\n",
        "!mkdir recursos"
      ],
      "metadata": {
        "id": "IU5L1Humevqs"
      },
      "execution_count": null,
      "outputs": []
    },
    {
      "cell_type": "code",
      "source": [
        "# Se crea y se activa un entorno para python\n",
        "!pip install virtualenv\n",
        "!virtualenv .carificador"
      ],
      "metadata": {
        "id": "bjrKRq2iWEf_"
      },
      "execution_count": null,
      "outputs": []
    },
    {
      "cell_type": "code",
      "source": [
        "# Instalar las librerías para que funcione\n",
        "!source .carificador/bin/activate; pip install -r requirements.txt\n",
        "!source .carificador/bin/activate; pip install matplotlib-inline"
      ],
      "metadata": {
        "id": "Pb-S027pfE0w"
      },
      "execution_count": null,
      "outputs": []
    },
    {
      "cell_type": "code",
      "source": [
        "# Crear un script de bash para facilitar el uso\n",
        "!echo \"#!/bin/bash\"                                    >  carificar.sh\n",
        "!echo 'CARA=$1'                                        >> carificar.sh\n",
        "!echo 'OBJETIVO=$2'                                    >> carificar.sh\n",
        "!echo 'RESULTADO=$3'                                   >> carificar.sh\n",
        "!echo \"source /content/roop/.carificador/bin/activate\" >> carificar.sh\n",
        "!echo \"echo ------- ejecutando ---------------------------\" >> carificar.sh\n",
        "!echo 'echo python run.py --many-faces --execution-provider cuda --frame-processor face_swapper face_enhancer -s \"${CARA}\" -t \"${OBJETIVO}\" -o \"${RESULTADO}\" ' >> carificar.sh\n",
        "!echo \"echo ----------------------------------------------\" >> carificar.sh\n",
        "!echo 'python run.py --many-faces --execution-provider cuda --frame-processor face_swapper face_enhancer -s \"${CARA}\" -t \"${OBJETIVO}\" -o \"${RESULTADO}\" ' >> carificar.sh\n",
        "!chmod 755 carificar.sh\n",
        "!ls -la"
      ],
      "metadata": {
        "id": "Zc0AidBNnhD-"
      },
      "execution_count": null,
      "outputs": []
    },
    {
      "cell_type": "code",
      "source": [
        "# Bajar el modelo\n",
        "!mkdir models\n",
        "!ls -al models\n",
        "!wget -O models/inswapper_128.onnx https://huggingface.co/ezioruan/inswapper_128.onnx/resolve/main/inswapper_128.onnx\n",
        "!ls -al models"
      ],
      "metadata": {
        "id": "sJGF0DEIgE3r"
      },
      "execution_count": null,
      "outputs": []
    },
    {
      "cell_type": "code",
      "source": [
        "# Poner unas plantillas para usar\n",
        "%cd recursos\n",
        "from google.colab import files\n",
        "uploaded = files.upload()\n",
        "%cd ..\n",
        "!ls -la recursos"
      ],
      "metadata": {
        "id": "VbB_FgkiiXAG"
      },
      "execution_count": null,
      "outputs": []
    },
    {
      "cell_type": "code",
      "source": [
        "from IPython.display import Image"
      ],
      "metadata": {
        "id": "jva7T27-jLru"
      },
      "execution_count": null,
      "outputs": []
    },
    {
      "cell_type": "code",
      "source": [
        "# hacer un cambio\n",
        "!rm -f ./recursos/cambio.jpg\n",
        "!bash carificar.sh ./recursos/yo.jpg ./recursos/retrato-hombre-01.jpg ./recursos/cambio.jpg\n",
        "Image(\"./recursos/cambio.jpg\")"
      ],
      "metadata": {
        "id": "0_Z8ftzzjsRc"
      },
      "execution_count": null,
      "outputs": []
    }
  ]
}
