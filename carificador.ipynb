{
  "nbformat": 4,
  "nbformat_minor": 0,
  "metadata": {
    "colab": {
      "provenance": [],
      "collapsed_sections": [
        "W3XCrmcVeTk_"
      ],
      "gpuType": "T4"
    },
    "kernelspec": {
      "name": "python3",
      "display_name": "Python 3"
    },
    "language_info": {
      "name": "python"
    },
    "accelerator": "GPU"
  },
  "cells": [
    {
      "cell_type": "markdown",
      "source": [
        "# Una aplicación dentro de la máquina virtual"
      ],
      "metadata": {
        "id": "W3XCrmcVeTk_"
      }
    },
    {
      "cell_type": "markdown",
      "source": [
        "## Obtener roop desde github"
      ],
      "metadata": {
        "id": "Oc6SUhUrhynz"
      }
    },
    {
      "cell_type": "code",
      "execution_count": null,
      "metadata": {
        "id": "SBDdiW7Td2I3"
      },
      "outputs": [],
      "source": [
        "# Clonar el repositorio\n",
        "!git clone https://github.com/s0md3v/roop"
      ]
    },
    {
      "cell_type": "markdown",
      "source": [
        "## Ajustar el funcionamiento en para un entorno virtal de python"
      ],
      "metadata": {
        "id": "Dolz3l7Dh4qw"
      }
    },
    {
      "cell_type": "code",
      "source": [
        "# Entrar a la carpeta del repositorio clonado\n",
        "%cd roop"
      ],
      "metadata": {
        "id": "RaORpoFVe3Bh"
      },
      "execution_count": null,
      "outputs": []
    },
    {
      "cell_type": "code",
      "source": [
        "# Crear una carpeta para separar las imagenes a procesar\n",
        "!mkdir recursos"
      ],
      "metadata": {
        "id": "IU5L1Humevqs"
      },
      "execution_count": null,
      "outputs": []
    },
    {
      "cell_type": "code",
      "source": [
        "# Se crea y se activa un entorno para python\n",
        "!pip install virtualenv\n",
        "!pip install gradio\n",
        "!virtualenv .carificador"
      ],
      "metadata": {
        "id": "bjrKRq2iWEf_"
      },
      "execution_count": null,
      "outputs": []
    },
    {
      "cell_type": "code",
      "source": [
        "# Instalar las librerías para que funcione\n",
        "!source .carificador/bin/activate; pip install -r requirements.txt\n",
        "!source .carificador/bin/activate; pip install matplotlib-inline"
      ],
      "metadata": {
        "id": "Pb-S027pfE0w"
      },
      "execution_count": null,
      "outputs": []
    },
    {
      "cell_type": "markdown",
      "source": [
        "## Creando un script de bash para las facilitar las llamadas"
      ],
      "metadata": {
        "id": "PhM7YUhWjbuX"
      }
    },
    {
      "cell_type": "code",
      "source": [
        "# Crear un script de bash para facilitar el uso\n",
        "!echo \"#!/bin/bash\"                                    >  carificar.sh\n",
        "!echo 'CARA=$1'                                        >> carificar.sh\n",
        "!echo 'OBJETIVO=$2'                                    >> carificar.sh\n",
        "!echo 'RESULTADO=$3'                                   >> carificar.sh\n",
        "!echo \"source /content/roop/.carificador/bin/activate\" >> carificar.sh\n",
        "!echo \"echo ------- ejecutando ---------------------------\" >> carificar.sh\n",
        "!echo 'echo python run.py --many-faces --execution-provider cuda --frame-processor face_swapper face_enhancer -s \"${CARA}\" -t \"${OBJETIVO}\" -o \"${RESULTADO}\" ' >> carificar.sh\n",
        "!echo \"echo ----------------------------------------------\" >> carificar.sh\n",
        "!echo 'python run.py --many-faces --execution-provider cuda --frame-processor face_swapper face_enhancer -s \"${CARA}\" -t \"${OBJETIVO}\" -o \"${RESULTADO}\" ' >> carificar.sh\n",
        "!chmod 755 carificar.sh\n",
        "!ls -la"
      ],
      "metadata": {
        "id": "Zc0AidBNnhD-"
      },
      "execution_count": null,
      "outputs": []
    },
    {
      "cell_type": "markdown",
      "source": [
        "## Bajar el modelo que permite hacer los cambios"
      ],
      "metadata": {
        "id": "2cYZh1dRjk4X"
      }
    },
    {
      "cell_type": "code",
      "source": [
        "# Bajar el modelo\n",
        "!mkdir models\n",
        "!ls -al models\n",
        "!wget -O models/inswapper_128.onnx https://huggingface.co/ezioruan/inswapper_128.onnx/resolve/main/inswapper_128.onnx\n",
        "!ls -al models"
      ],
      "metadata": {
        "id": "sJGF0DEIgE3r"
      },
      "execution_count": null,
      "outputs": []
    },
    {
      "cell_type": "markdown",
      "source": [
        "### Subir algunas imágenes para las pruebas"
      ],
      "metadata": {
        "id": "2ZMQrGg2jq22"
      }
    },
    {
      "cell_type": "code",
      "source": [
        "# Poner unas plantillas para usar\n",
        "%cd recursos\n",
        "from google.colab import files\n",
        "uploaded = files.upload()\n",
        "%cd ..\n",
        "!ls -la recursos"
      ],
      "metadata": {
        "id": "VbB_FgkiiXAG"
      },
      "execution_count": null,
      "outputs": []
    },
    {
      "cell_type": "markdown",
      "source": [
        "## Importar las libreríás para preparar la aplicación web"
      ],
      "metadata": {
        "id": "lzz4j9brjwqW"
      }
    },
    {
      "cell_type": "code",
      "source": [
        "# Librerías para las aplicaciones web y las funciones de la aplicación web\n",
        "from IPython.display import Image\n",
        "from PIL import Image as Pimagen\n",
        "import os\n",
        "import locale\n",
        "import gradio as gr\n",
        "import cv2"
      ],
      "metadata": {
        "id": "jva7T27-jLru"
      },
      "execution_count": null,
      "outputs": []
    },
    {
      "cell_type": "code",
      "source": [
        "# Localización para gradio\n",
        "locale.getpreferredencoding = lambda: \"UTF-8\""
      ],
      "metadata": {
        "id": "4pAxEcmVRS5C"
      },
      "execution_count": null,
      "outputs": []
    },
    {
      "cell_type": "markdown",
      "source": [
        "### Pruebas del script de bash con las imágenes subidas"
      ],
      "metadata": {
        "id": "brbCFK_Xj7gC"
      }
    },
    {
      "cell_type": "markdown",
      "source": [
        "Notar que si suben imágenes diferentes, ***cambiar los nombres de las imágenes*** tomando en cuenta las extensiones y manteniendo la ruta sugerida dentro de la carpeta **recursos**"
      ],
      "metadata": {
        "id": "zMKThAV0j_sx"
      }
    },
    {
      "cell_type": "code",
      "source": [
        "# hacer un cambio con el script de bash\n",
        "!rm -f ./recursos/cambio.jpg\n",
        "!bash carificar.sh ./recursos/yo.jpg ./recursos/retrato-hombre-01.jpg ./recursos/cambio.jpg\n",
        "Image(\"./recursos/cambio.jpg\")"
      ],
      "metadata": {
        "id": "0_Z8ftzzjsRc"
      },
      "execution_count": null,
      "outputs": []
    },
    {
      "cell_type": "markdown",
      "source": [
        "## Definir una funcióñ para uso en código normal de python con llamada al sistema operativo"
      ],
      "metadata": {
        "id": "hwXtGXF8kWPZ"
      }
    },
    {
      "cell_type": "code",
      "source": [
        "# Hacer una función para realizar cambios\n",
        "def cambiar( micara, objetivo ) :\n",
        "  os.system( \"rm -f './recursos/cambio.jpg' \")\n",
        "  os.system( f\"bash carificar.sh '{micara}'  '{objetivo}' './recursos/cambio.jpg'\")\n",
        "  return Pimagen.open(r\"./recursos/cambio.jpg\")"
      ],
      "metadata": {
        "id": "pnXqLUnNItm3"
      },
      "execution_count": null,
      "outputs": []
    },
    {
      "cell_type": "markdown",
      "source": [
        "### Probar código en python para uso de la función de python"
      ],
      "metadata": {
        "id": "PgrdL-4pkfbs"
      }
    },
    {
      "cell_type": "code",
      "source": [
        "# Hacer un cambio con la función\n",
        "imagen_generada = cambiar(\"./recursos/yo.jpg\", \"./recursos/arqueologo.jpg\")\n",
        "imagen_generada.save( \"./prueba.jpg\" )\n",
        "Image(\"./prueba.jpg\")"
      ],
      "metadata": {
        "id": "Cyyy9UaSLXqA"
      },
      "execution_count": null,
      "outputs": []
    },
    {
      "cell_type": "markdown",
      "source": [
        "## Definición de una función para envolver las llamadas a conversión desde gradio"
      ],
      "metadata": {
        "id": "7dMu_T1Gkm-o"
      }
    },
    {
      "cell_type": "code",
      "source": [
        "# Función envolvedora para que funcione la interfaz de gradio\n",
        "def carificadorGr( imagen_01, imagen_02 ) :\n",
        "  os.system( \"rm -f /tmp/cara.jpg\"      )\n",
        "  os.system( \"rm -f /tmp/objetivo.jpg\"  )\n",
        "  cv2.imwrite(\"/tmp/cara.jpg\"     , cv2.cvtColor(imagen_01, cv2.COLOR_BGR2RGB) )\n",
        "  cv2.imwrite(\"/tmp/objetivo.jpg\" , cv2.cvtColor(imagen_02, cv2.COLOR_BGR2RGB) )\n",
        "  devolver = cambiar( \"/tmp/cara.jpg\", \"/tmp/objetivo.jpg\" )\n",
        "  return devolver"
      ],
      "metadata": {
        "id": "v6Z1U4_iSBe8"
      },
      "execution_count": null,
      "outputs": []
    },
    {
      "cell_type": "markdown",
      "source": [
        "## Diseño de la interfaz para gradio"
      ],
      "metadata": {
        "id": "OZTuUyLSkw_-"
      }
    },
    {
      "cell_type": "code",
      "source": [
        "# diseño de la interfaz de gradio\n",
        "caja_de_entrada_1  = gr.Image( label = \"Tu foto\"       )\n",
        "caja_de_entrada_2  = gr.Image( label = \"Una plantilla\" )\n",
        "caja_de_salida     = gr.Image( label = \"Resultado\" )\n",
        "titulo_de_mi_app   = \"Carificador enchuchumustnado\"\n",
        "descripcion_app    = \"Herramienta para enchuchumustar caras en plantillas\"\n",
        "interfaz = gr.Interface(\n",
        "    fn             = carificadorGr      ,\n",
        "    inputs         = [\n",
        "      caja_de_entrada_1 ,\n",
        "      caja_de_entrada_2\n",
        "    ] ,\n",
        "    outputs        = [ caja_de_salida  ] ,\n",
        "    title          = titulo_de_mi_app    ,\n",
        "    description    = descripcion_app     ,\n",
        "    flagging_mode  = \"never\"\n",
        ")"
      ],
      "metadata": {
        "id": "liBntmCMRdEF"
      },
      "execution_count": null,
      "outputs": []
    },
    {
      "cell_type": "markdown",
      "source": [
        "## Lanzar y probar la aplicación web"
      ],
      "metadata": {
        "id": "qI6TTD2kk2Vy"
      }
    },
    {
      "cell_type": "code",
      "source": [
        "#lanzar aplicación\n",
        "interfaz.launch( share = True )"
      ],
      "metadata": {
        "id": "PpbPXTx1UE27"
      },
      "execution_count": null,
      "outputs": []
    },
    {
      "cell_type": "markdown",
      "source": [
        "## Finalizar la aplicación web"
      ],
      "metadata": {
        "id": "G7mQ1Qjwk6yX"
      }
    },
    {
      "cell_type": "code",
      "source": [
        "# cerrar pliacación web\n",
        "interfaz.close(  )"
      ],
      "metadata": {
        "id": "SQ2YoA74Udvw"
      },
      "execution_count": null,
      "outputs": []
    }
  ]
}
