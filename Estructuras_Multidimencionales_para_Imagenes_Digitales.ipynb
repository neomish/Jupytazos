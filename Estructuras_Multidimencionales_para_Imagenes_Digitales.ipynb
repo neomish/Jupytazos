{
  "nbformat": 4,
  "nbformat_minor": 0,
  "metadata": {
    "colab": {
      "provenance": [],
      "toc_visible": true,
      "collapsed_sections": [
        "ofSDIsg4w4p7",
        "NQw2ngOCxnxK",
        "DLqkqzra2jlG",
        "_iFFVFkGxF7I",
        "qfwy5upgy69s",
        "SKeJ1DdP0gLD",
        "UjyujoCJ1odU",
        "NlNhTdLV1u7m",
        "jCbMjs0Y0Pv8",
        "SP-bWFavyJm3",
        "BYdFXpWIZhxT",
        "tL1Z6JQrtMsn",
        "FZhbqqaHG0nT",
        "94NZnRsHIZi0",
        "6rs5ElsOdxGv"
      ]
    },
    "kernelspec": {
      "name": "python3",
      "display_name": "Python 3"
    },
    "language_info": {
      "name": "python"
    }
  },
  "cells": [
    {
      "cell_type": "markdown",
      "source": [
        "# 1 -¿Que veremos?"
      ],
      "metadata": {
        "id": "ofSDIsg4w4p7"
      }
    },
    {
      "cell_type": "markdown",
      "source": [
        "1.    Como una computadora percibe una imágen digital\n",
        "2.    Utilizar imágenes digitales en python\n",
        "\n"
      ],
      "metadata": {
        "id": "0yX8DZOcxuj6"
      }
    },
    {
      "cell_type": "markdown",
      "source": [
        "# 2 - ¿Qué necesitaremos?"
      ],
      "metadata": {
        "id": "NQw2ngOCxnxK"
      }
    },
    {
      "cell_type": "markdown",
      "source": [
        "## Librerías útiles"
      ],
      "metadata": {
        "id": "DLqkqzra2jlG"
      }
    },
    {
      "cell_type": "markdown",
      "source": [
        "**Numpy**: una librería que facilita operaciones con arreglos multidimensionales (vectores y matrices)\n",
        "\n",
        "**OpenCv**: una libería que facilita el trabajo con Reconocimiento de Imágenes\n",
        "\n",
        "**Pillow**: Librería que facilita la manipulación de imágenes\n",
        "\n",
        "**MathPlotLib**: herramienta para poder graficar expresiones y ecuaciones matemáticas\n",
        "\n",
        "Como representar Imágenes digitales con su estructura Multidimensional\n",
        "*  Concepto de imágenes digitales\n",
        "*  Escala de grises: arreglo 2D\n",
        "*  Imágenes RGB: Arreglo 3D"
      ],
      "metadata": {
        "id": "FzFGBXv_yj__"
      }
    },
    {
      "cell_type": "markdown",
      "source": [
        "# 3 - Imágenes Digitales"
      ],
      "metadata": {
        "id": "_iFFVFkGxF7I"
      }
    },
    {
      "cell_type": "markdown",
      "source": [
        "\n",
        "Una [imagen digital](https://es.wikipedia.org/wiki/Imagen_digital) o un gráfico digital es una representación bidimensional de una imagen a partir de una matriz numérica, frecuentemente en binario (unos y ceros). Dependiendo de si la resolución de la imagen es estática o dinámica, puede tratarse de una imagen matricial (o mapa de bits) o de un gráfico vectorial. El mapa de bits es el formato más utilizado en informática."
      ],
      "metadata": {
        "id": "i-dYnBTqwoay"
      }
    },
    {
      "cell_type": "markdown",
      "source": [
        "## Ejemplos"
      ],
      "metadata": {
        "id": "qfwy5upgy69s"
      }
    },
    {
      "cell_type": "markdown",
      "source": [
        "Un pingüino con daltonísmo por lo que será escala de grises\n",
        "\n",
        "![Pingu01.png](data:image/png;base64,iVBORw0KGgoAAAANSUhEUgAAABAAAAAQCAQAAAC1+jfqAAAAhklEQVQokYWQ0REDIQhEH8zVkUkp+U8lmavnxkrSj5XofYgKxpngxyq74IIwQmvDIriQlV5FsqO9RGcqkwM6Qa9/ERHgmNcncBlOZxL/vwxPoIhWWAR56QD6699bLKI7Kg8adE7sKzsd9rAPjZvfCP51EIBkk7wt+TX8NJNpDPqQdvo7VbgBPyojGic+3b8AAAAASUVORK5CYII=)"
      ],
      "metadata": {
        "id": "TT7Np1VhzAg0"
      }
    },
    {
      "cell_type": "markdown",
      "source": [
        "Un cuadro digno del gran Picasso\n",
        "\n",
        "![Picazzo.png](data:image/png;base64,iVBORw0KGgoAAAANSUhEUgAAABAAAAAQCAYAAAAf8/9hAAABEElEQVQ4jWOMP/vkPwMOsMBImiHh3FMM8TmqQXA2Ez7NyDQuwMTAwMDANbeNAZnGZRgMpNxeB2czwrzQsMSJoSFmH17bcLqAgYEBq2ZCLkMxABv4llzF0LDEieFbchWGHMxbTAwMDAxv5njjNASby5BjhzF59v//DAwMDC/OGTBIGF1gQGejA8/pxnD29syzEANenDNAUYRLMzbAgqxJZ7cNwx7hL1hd8OPyI+wGwBTDFAiwboJ7A8bG6wIB1k1YTcel2cH+GnYvmLyIwmkLuiYUA2CSX1ZCBPgD/BnyH5kxHOINZGBgYGCwW7WG4RBDCIQOC8EwACMh5T8yQ+EfCsOtmYGBgYFx9trtOLMzMQAACl9mwoDu2JYAAAAASUVORK5CYII=)"
      ],
      "metadata": {
        "id": "wi_ezrUwzQz5"
      }
    },
    {
      "cell_type": "markdown",
      "source": [
        "### ¿No se ven dicen?"
      ],
      "metadata": {
        "id": "SKeJ1DdP0gLD"
      }
    },
    {
      "cell_type": "markdown",
      "source": [
        "#### El pinguino"
      ],
      "metadata": {
        "id": "UjyujoCJ1odU"
      }
    },
    {
      "cell_type": "markdown",
      "source": [
        "![Pingu01 - grande.png](data:image/png;base64,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)"
      ],
      "metadata": {
        "id": "7p1rk3sB0uSN"
      }
    },
    {
      "cell_type": "markdown",
      "source": [
        "#### El cuadro"
      ],
      "metadata": {
        "id": "NlNhTdLV1u7m"
      }
    },
    {
      "cell_type": "markdown",
      "source": [
        "![Picazzo - grande.png](data:image/png;base64,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)"
      ],
      "metadata": {
        "id": "_BfE6yUd1hNE"
      }
    },
    {
      "cell_type": "markdown",
      "source": [
        "# 4 - Ejercicios con programas"
      ],
      "metadata": {
        "id": "jCbMjs0Y0Pv8"
      }
    },
    {
      "cell_type": "markdown",
      "source": [
        "## Para usar imágenes con Python"
      ],
      "metadata": {
        "id": "SP-bWFavyJm3"
      }
    },
    {
      "cell_type": "markdown",
      "source": [
        "Primero se deben importar las librerías con las que se trabajará, y hay dos librerías que seran suficiente."
      ],
      "metadata": {
        "id": "-qT9iAS8OZTJ"
      }
    },
    {
      "cell_type": "code",
      "execution_count": null,
      "metadata": {
        "id": "oNU-901v2SVH"
      },
      "outputs": [],
      "source": [
        "# Facilitar el trabajo con vectore y matrices\n",
        "import numpy as np\n",
        "# Facilitar graficar puntos en un plano\n",
        "import matplotlib.pyplot as mp\n",
        "# Facilitar la manipulación de imágenes\n",
        "import cv2 as oc\n",
        "# Hacer que se muestren los planos con los puntos en colab\n",
        "%matplotlib inline"
      ]
    },
    {
      "cell_type": "markdown",
      "source": [
        "La última línea dice ***%matplotlib inline***, eso se usa en Google Colab para mostrar las gráficas creadas con la librería\n"
      ],
      "metadata": {
        "id": "7xtJcop0VAYK"
      }
    },
    {
      "cell_type": "markdown",
      "source": [
        "## Entendiendo MatPlotLib en un repasón"
      ],
      "metadata": {
        "id": "BYdFXpWIZhxT"
      }
    },
    {
      "cell_type": "markdown",
      "source": [
        "Hay que probar un poco la librería para entender su funcionamiento, supongamos una serie de valores en un lista (o vector) parecido a este:\n",
        "\n",
        "    [ 1 , 2 , 3 , 4 , 5 ]\n",
        "\n",
        "Recordando el detalle que en un vector ( como el mostrado ) su valores se encuentran en una posición identificable:\n",
        "\n",
        "    Posición:  0   1   2   3   4\n",
        "               |   |   |   |   |\n",
        "               v   v   v   v   v\n",
        "    Valores :[ 1 , 2 , 3 , 4 , 5 ]"
      ],
      "metadata": {
        "id": "yF1-3EjVOsOB"
      }
    },
    {
      "cell_type": "code",
      "source": [
        "lista = [ 1 , 2 , 3 , 4 , 5 ]\n",
        "mp.plot( lista )\n",
        "# mp.show()"
      ],
      "metadata": {
        "id": "JSL7CpxhUT0U"
      },
      "execution_count": null,
      "outputs": []
    },
    {
      "cell_type": "markdown",
      "source": [
        "El comentario en la última linea es para recordar que si se va a usar algo diferente a Google Colab, o  Jupyter Noteebook, se usaría ***mp.show()*** para mostrar la gráfica"
      ],
      "metadata": {
        "id": "V_cE8PpzUrJc"
      }
    },
    {
      "cell_type": "markdown",
      "source": [
        "Pero siguiendo con la idea, la gráfica previa se tuvo que mostrar como una línea recta... dónde cada punto en el plano cartesiano requiere un valor para X y uno para Y... ¿Entonces de dónde salieron los valores de cada punto?"
      ],
      "metadata": {
        "id": "_TDFHCMVWrmb"
      }
    },
    {
      "cell_type": "markdown",
      "source": [
        "Existe una forma para poder graficar puntos si le entregamos dos listas de igual dimensión, dónde cada una posee los valores de cada punto (x,y) a ser utilizados\n",
        "\n",
        "Supongamos una lista de puntos donde pásará una gráfica:\n",
        "\n",
        "    (0,2), (1,5), (2,4), (3,1) y (4,3)\n",
        "\n",
        "Para eso necesitamos dos listas, una con los valores de X, otra con los valores de Y"
      ],
      "metadata": {
        "id": "voWOHjZyXIVg"
      }
    },
    {
      "cell_type": "code",
      "source": [
        "listax = [ 0 , 1 , 2 , 3 , 4 ]\n",
        "listay = [ 2 , 5 , 4 , 1 , 3 ]\n",
        "\n",
        "mp.plot( listax, listay )\n",
        "# mp.show()"
      ],
      "metadata": {
        "id": "hhcFKX0_ZZRo"
      },
      "execution_count": null,
      "outputs": []
    },
    {
      "cell_type": "markdown",
      "source": [
        "Pero la librería matplotlib es útil para mostrar los valores con un formato diferente, supongamos la siguiente matriz :\n",
        "\n",
        "    | 0 0 1 1 |\n",
        "    | 1 1 0 0 |\n",
        "    | 1 1 0 0 |\n",
        "    | 0 0 1 1 |\n",
        "\n",
        "En python se necesitarían varias listas dentro de una lista contenedora :\n",
        "\n",
        "    [\n",
        "      [ 0 , 0 , 1 , 1 ] ,\n",
        "      [ 1 , 1 , 0 , 0 ] ,\n",
        "      [ 1 , 1 , 0 , 0 ] ,\n",
        "      [ 0 , 0 , 1 , 1 ] ,\n",
        "    ]"
      ],
      "metadata": {
        "id": "2a6rs1EKgA4u"
      }
    },
    {
      "cell_type": "code",
      "source": [
        "matriz = [\n",
        "  [ 0 , 0 , 1 , 1 ] ,\n",
        "  [ 1 , 1 , 0 , 0 ] ,\n",
        "  [ 1 , 1 , 0 , 0 ] ,\n",
        "  [ 0 , 0 , 1 , 1 ] ,\n",
        "]\n",
        "\n",
        "mp.figure( figsize=( 2, 3 ))\n",
        "mp.imshow( matriz , cmap='gray')\n",
        "# mp.show()"
      ],
      "metadata": {
        "id": "_U1UpLW9l8x8"
      },
      "execution_count": null,
      "outputs": []
    },
    {
      "cell_type": "markdown",
      "source": [
        "Se puede jugar con la  matriz para \"dibujar\" algo diferente:\n",
        "\n",
        "    | 0 1 1 0 |\n",
        "    | 1 0 0 1 |\n",
        "    | 1 0 0 1 |\n",
        "    | 0 1 1 0 |"
      ],
      "metadata": {
        "id": "bHjRXdrRl77-"
      }
    },
    {
      "cell_type": "code",
      "source": [
        "matriz = [\n",
        "  [ 0 , 1 , 1 , 0 ] ,\n",
        "  [ 1 , 0 , 0 , 1 ] ,\n",
        "  [ 1 , 0 , 0 , 1 ] ,\n",
        "  [ 0 , 1 , 1 , 0 ] ,\n",
        "]\n",
        "\n",
        "matriz[2][1] = 1\n",
        "\n",
        "mp.figure( figsize=( 2, 3 ))\n",
        "mp.imshow( matriz , cmap='gray')\n",
        "# mp.show()"
      ],
      "metadata": {
        "id": "fovtaXpIrL1e"
      },
      "execution_count": null,
      "outputs": []
    },
    {
      "cell_type": "markdown",
      "source": [
        "## Probando matrices de dos dimensiones"
      ],
      "metadata": {
        "id": "tL1Z6JQrtMsn"
      }
    },
    {
      "cell_type": "markdown",
      "source": [
        "Las imágenes con colores son representadas como en los ejercicios anteriores pero en tres matrices, donde cada matriz representa el nivel de Rojo, Verde y Azul que puede utilizarse en cada led de los monitores de las computadoras\n",
        "\n",
        "Antes, hace mucho tiempo... bueno no tanto... las pantallas no eran a colores, y lo mas que se hacía era atenuar la luz que se presentaba, o sea, que variaba desde medio apagado hasta bien encendido, con una serie de pulsos (valores) desde 0 (apagado) hasta 255 (bien encendido)\n",
        "\n",
        "Tomemos como ejemplo el bonoito pingüino 🐧\n",
        "\n",
        "... pero no este, este está muy bien echo, usemos el del dibujo de arriba\n",
        "\n",
        "![Pingu01.png](data:image/png;base64,iVBORw0KGgoAAAANSUhEUgAAABAAAAAQCAQAAAC1+jfqAAAAhklEQVQokYWQ0REDIQhEH8zVkUkp+U8lmavnxkrSj5XofYgKxpngxyq74IIwQmvDIriQlV5FsqO9RGcqkwM6Qa9/ERHgmNcncBlOZxL/vwxPoIhWWAR56QD6699bLKI7Kg8adE7sKzsd9rAPjZvfCP51EIBkk7wt+TX8NJNpDPqQdvo7VbgBPyojGic+3b8AAAAASUVORK5CYII=)"
      ],
      "metadata": {
        "id": "ycee98HRtjI1"
      }
    },
    {
      "cell_type": "code",
      "source": [
        "pinguino = [\n",
        "  [255,255,255,255,255,  2,  2,  2,  2,255,255,255,255,255,255,255],\n",
        "  [255,255,255,255,  2,  2,  2,  2,  2,  2,  2,255,255,255,255,255],\n",
        "  [255,255,255,  2,  2,  2,  2,  2,  2,  2,  2,  2,255,255,255,255],\n",
        "  [255,255,255,  2,  2,226,226,  2,  2,226,226,  2,255,255,255,255],\n",
        "  [255,255,  2,  2,  2,226, 34,  2,  2,226, 34,  2,255,255,255,255],\n",
        "  [255,255,  2,  2,  2,  2,  2,151,151,  2,  2,  2,255,255,255,  2],\n",
        "  [255,  2,  2,  2,  2,  2,  2,151,151,151,151,  2,  2,255,  2,  2],\n",
        "  [255,  2,  2,  2,  2,  2,  2,226,226,  2,  2,  2,  2,  2,  2,  2],\n",
        "  [  2,  2,  2,  2,  2,  2,  2,226,226,226,  2,  2,  2,  2,  2,255],\n",
        "  [  2,  2,  2,  2,  2,  2,226,226,226,226,226,  2,  2,  2,255,255],\n",
        "  [  2,255,  2,  2,  2,226,226,226,226,226,226,  2,  2,255,255,255],\n",
        "  [  2,255,  2,  2,  2,226,226,226,226,226,226,  2,  2,255,255,255],\n",
        "  [255,255,  2,  2,  2,226,226,226,226,226,226,  2,  2,255,255,255],\n",
        "  [255,255,  2,  2,  2,226,226,226,226,226,226,  2,  2,255,255,255],\n",
        "  [255,255,151,151,151,151,226,226,226,226,151,151,151,151,255,255],\n",
        "  [255,151,151,151,151,151,255,255,255,255,151,151,151,151,151,255]\n",
        "]\n",
        "mp.imshow(pinguino,cmap='gray')\n",
        "# mp.show()"
      ],
      "metadata": {
        "id": "6mwULl-H0P1K"
      },
      "execution_count": null,
      "outputs": []
    },
    {
      "cell_type": "markdown",
      "source": [
        "Podemos modificar la imagen de una forma bien sencilla... 🤡 ok, no tan sencilla, pero fácil, solo cambiaremos las pupilas de los ojos para que mire hacia arriba.\n",
        "\n",
        "¿Dónde estan los ojos?\n",
        "en la posición de la séptima columna y quinta fila..., o sea, en la **(6,4)** y tiene un valor asociado de **34** y justo antes (en la parte superior de la matriz) tiene un color más claro, en la **(6,3)** tiene el valor **226**, por lo que podemos intercambiarlos:\n",
        "\n",
        "*   la celda (6,4) debe tener el valor 226\n",
        "*   y la celda (6,3) debe tener el valor 34"
      ],
      "metadata": {
        "id": "NNWqLrRfCuvB"
      }
    },
    {
      "cell_type": "code",
      "source": [
        "pinguino[4][6] = 226\n",
        "pinguino[3][6] = 34\n",
        "\n",
        "mp.imshow(pinguino,cmap='gray')\n",
        "# mp.show()"
      ],
      "metadata": {
        "id": "wN5pxzV2Ej7N"
      },
      "execution_count": null,
      "outputs": []
    },
    {
      "cell_type": "markdown",
      "source": [
        "¡Hijole!... el pingüino quedó con los ojos virolos...\n",
        "\n",
        "¿Cómo lo puedo arreglar?"
      ],
      "metadata": {
        "id": "Bxhy7SxDGjPU"
      }
    },
    {
      "cell_type": "markdown",
      "source": [
        "### Arreglo de los ojos"
      ],
      "metadata": {
        "id": "FZhbqqaHG0nT"
      }
    },
    {
      "cell_type": "markdown",
      "source": [
        "Pues se podría hacer que el otro ojo parezca que está viendo en una dirección similar:\n",
        "\n",
        "*   la celda (10,4) debe tener el valor de 226\n",
        "*   y la celda (10,3) debe tener el valor de 34"
      ],
      "metadata": {
        "id": "9egtvraCG9xK"
      }
    },
    {
      "cell_type": "code",
      "source": [
        "pinguino[4][10] = 226\n",
        "pinguino[3][10] = 34\n",
        "\n",
        "mp.imshow(pinguino,cmap='gray')\n",
        "# mp.show()"
      ],
      "metadata": {
        "id": "Ku0U7cmEHmA4"
      },
      "execution_count": null,
      "outputs": []
    },
    {
      "cell_type": "markdown",
      "source": [
        "## Probando matrices de tres dimensiones"
      ],
      "metadata": {
        "id": "94NZnRsHIZi0"
      }
    },
    {
      "cell_type": "markdown",
      "source": [
        "Una matriz de dos dimensiones tiene altura y ancho, como en los ejemplos previos, una matriz de dos dimensiones de tres filas de altura y dos de ancho se vería así:\n",
        "\n",
        "              ┌───┬───┬───┐      ┌────┬────┬────┐\n",
        "    capa 1 -> │   │   │   │      │  1 │  2 │  3 │\n",
        "              ├───┼───┼───┤      ├────┼────┼────┤\n",
        "              │   │   │   │      │  4 │  5 │  6 │\n",
        "              └───┴───┴───┘      └────┴────┴────┘\n",
        "                                      Capa 1\n",
        "\n",
        "En python sería como:\n",
        "    \n",
        "    [\n",
        "      [  1 ,  2 ,  3 ],\n",
        "      [  4 ,  5 ,  6 ]\n",
        "    ]\n",
        "\n",
        "Pero si a esa matriz le agregamos un nivel de una profundidad, se necesita que cada elmenento posea unespacio propio en la misma posición para otros valores :\n",
        "\n",
        "    capa 2 --> ┌───┬───┬───┐     ┌────┬────┬────┐  ┌────┬────┬────┐\n",
        "    capa 1 -> ┌┴──┬┴──┬┴──┐│     │  1 │  2 │  3 │  │  7 │  8 │  9 │\n",
        "              │   │   │   ├┤     ├────┼────┼────┤  ├────┼────┼────┤\n",
        "              ├───┼───┼───┤│     │  4 │  5 │  6 │  │ 10 │ 11 │ 12 │\n",
        "              │   │   │   ├┘     └────┴────┴────┘  └────┴────┴────┘\n",
        "              └───┴───┴───┘           Capa 1            Capa 2\n",
        "\n",
        "En python esto es como ver una lista con listas\n",
        "\n",
        "    [\n",
        "      [\n",
        "        [  1 ,  7 ] , [  2 ,  8 ] , [  3 ,  9 ]\n",
        "      ] ,\n",
        "      [\n",
        "        [  4 , 10 ] , [  5 , 11 ] , [  6 , 12 ]\n",
        "      ]\n",
        "    ]\n",
        "    \n",
        "Y si le agregamos una tercerca capa... nos complicaremos pero no es difícil :\n",
        "\n",
        "    capa 3 ---> ┌───┬───┬───┐\n",
        "    capa 2 --> ┌┴──┬┴──┬┴──┐│    ┌────┬────┬────┐  ┌────┬────┬────┐  ┌────┬────┬────┐\n",
        "    capa 1 -> ┌┴──┬┴──┬┴──┐├┤    │  1 │  2 │  3 │  │  7 │  8 │  9 │  │ 13 │ 14 │ 15 │\n",
        "              │   │   │   ├┤│    ├────┼────┼────┤  ├────┼────┼────┤  ├────┼────┼────┤\n",
        "              ├───┼───┼───┤├┘    │  4 │  5 │  6 │  │ 10 │ 11 │ 12 │  │ 16 │ 17 │ 18 │\n",
        "              │   │   │   ├┘     └────┴────┴────┘  └────┴────┴────┘  └────┴────┴────┘\n",
        "              └───┴───┴───┘           Capa 1            Capa 2           Capa 3\n",
        "\n",
        "Para python es como :\n",
        "\n",
        "    [\n",
        "      [\n",
        "        [  1 ,  7 , 13 ] , [  2 ,  8 , 14 ] , [  3 ,  9 , 15 ]\n",
        "      ] ,\n",
        "      [\n",
        "        [  4 , 10 , 16 ] , [  5 , 11 , 17 ] , [  6 , 12 , 18 ]\n",
        "      ]\n",
        "    ]\n",
        "\n",
        "Las imágenes a colores pueden tener mas capas, pero básicamente son tres valores para representar en cada punto, siendo una mezcla de tres colores: rojo, verde y azul, en inglés es: Red, Green y Blue por esa razón reciben el nombre de RGB.\n",
        "\n",
        "Así que probemos, cada terna debe llevar en orden tres valores entre 0 y 255"
      ],
      "metadata": {
        "id": "iWGsAnJ7IhMg"
      }
    },
    {
      "cell_type": "code",
      "source": [
        "prueba = [\n",
        "    [\n",
        "        [ 255,   0,   0] , [   0, 255,   0] , [   0,   0, 255]\n",
        "    ] ,\n",
        "    [\n",
        "        [   0, 255, 255] , [ 255, 255,   0] , [ 255,   0, 255]\n",
        "    ] ,\n",
        "    [\n",
        "        [   0,   0,   0] , [ 128, 128, 128] , [ 255, 255, 255]\n",
        "    ]\n",
        "]\n",
        "mp.imshow(prueba)\n",
        "# mp.show()"
      ],
      "metadata": {
        "id": "U6x166ZHyGb_"
      },
      "execution_count": null,
      "outputs": []
    },
    {
      "cell_type": "markdown",
      "source": [
        "Dibujemos un barco sencillo"
      ],
      "metadata": {
        "id": "2ET9g3dC9xdI"
      }
    },
    {
      "cell_type": "code",
      "source": [
        "barco = [\n",
        "  [\n",
        "    [ 95,205,228],[ 95,205,228],[ 95,205,228],[255,255,255],[ 95,205,228],\n",
        "  ],\n",
        "  [\n",
        "    [ 95,205,228],[ 95,205,228],[255,255,255],[ 95,205,228],[ 95,205,228],\n",
        "  ],\n",
        "  [\n",
        "    [ 99,155,255],[172, 50, 50],[172, 50, 50],[172, 50, 50],[ 99,155,255],\n",
        "  ],\n",
        "  [\n",
        "    [ 99,155,255],[ 99,155,255],[ 99,155,255],[ 99,155,255],[ 99,155,255],\n",
        "  ]\n",
        "]\n",
        "mp.imshow(barco)\n",
        "# mp.show()"
      ],
      "metadata": {
        "id": "86FHk8oK920V"
      },
      "execution_count": null,
      "outputs": []
    },
    {
      "cell_type": "markdown",
      "source": [
        "Y ahora una obra maestra"
      ],
      "metadata": {
        "id": "_he1gauS-Icq"
      }
    },
    {
      "cell_type": "code",
      "source": [
        "picasso = [\n",
        "  [\n",
        "    [ 95,205,228],[ 95,205,228],[ 95,205,228],[ 95,205,228],[ 95,205,228],[ 95,205,228],[ 95,205,228],[255,255,255],[ 95,205,228],[ 95,205,228],[ 95,205,228],[ 95,205,228],[ 95,205,228],[251,242, 54],[251,242, 54],[251,242, 54]\n",
        "  ],\n",
        "  [\n",
        "    [ 95,205,228],[ 95,205,228],[ 95,205,228],[ 95,205,228],[ 95,205,228],[ 95,205,228],[255,255,255],[255,255,255],[255,255,255],[ 95,205,228],[ 95,205,228],[ 95,205,228],[ 95,205,228],[251,242, 54],[251,242, 54],[251,242, 54]\n",
        "  ],\n",
        "  [\n",
        "    [ 95,205,228],[105,106,106],[ 95,205,228],[105,106,106],[ 95,205,228],[ 95,205,228],[255,255,255],[255,255,255],[255,255,255],[255,255,255],[ 95,205,228],[ 95,205,228],[ 95,205,228],[ 95,205,228],[251,242, 54],[251,242, 54]\n",
        "  ],\n",
        "  [\n",
        "    [ 95,205,228],[ 95,205,228],[223,113, 38],[ 95,205,228],[ 95,205,228],[ 95,205,228],[ 95,205,228],[ 95,205,228],[ 95,205,228],[ 95,205,228],[ 95,205,228],[ 95,205,228],[ 95,205,228],[ 95,205,228],[ 95,205,228],[ 95,205,228]\n",
        "  ],\n",
        "  [\n",
        "    [ 95,205,228],[ 95,205,228],[ 95,205,228],[ 95,205,228],[ 95,205,228],[ 95,205,228],[ 95,205,228],[105,106,106],[ 95,205,228],[105,106,106],[ 95,205,228],[ 95,205,228],[ 95,205,228],[ 95,205,228],[ 95,205,228],[ 95,205,228]\n",
        "  ],\n",
        "  [\n",
        "    [ 95,205,228],[ 95,205,228],[ 95,205,228],[ 95,205,228],[ 95,205,228],[ 95,205,228],[ 95,205,228],[ 95,205,228],[223,113, 38],[ 95,205,228],[ 95,205,228],[ 95,205,228],[ 95,205,228],[ 95,205,228],[255,255,255],[ 95,205,228]\n",
        "  ],\n",
        "  [\n",
        "    [ 95,205,228],[ 75,105, 47],[ 95,205,228],[ 95,205,228],[ 95,205,228],[ 95,205,228],[ 95,205,228],[ 95,205,228],[ 95,205,228],[ 95,205,228],[ 95,205,228],[ 95,205,228],[ 95,205,228],[255,255,255],[ 95,205,228],[ 95,205,228]\n",
        "  ],\n",
        "  [\n",
        "    [ 99,155,255],[ 99,155,255],[ 75,105, 47],[ 99,155,255],[ 99,155,255],[ 75,105, 47],[ 99,155,255],[ 99,155,255],[ 99,155,255],[ 99,155,255],[ 99,155,255],[ 99,155,255],[172, 50, 50],[172, 50, 50],[172, 50, 50],[ 99,155,255]\n",
        "  ],\n",
        "  [\n",
        "    [ 99,155,255],[ 75,105, 47],[ 75,105, 47],[ 75,105, 47],[ 75,105, 47],[ 99,155,255],[ 99,155,255],[ 99,155,255],[ 99,155,255],[ 99,155,255],[ 99,155,255],[ 99,155,255],[ 99,155,255],[ 99,155,255],[ 99,155,255],[ 99,155,255]\n",
        "  ],\n",
        "  [\n",
        "    [ 99,155,255],[ 75,105, 47],[ 99,155,255],[143, 86, 59],[ 75,105, 47],[ 75,105, 47],[ 99,155,255],[ 99,155,255],[ 99,155,255],[ 99,155,255],[ 91,110,225],[ 91,110,225],[ 91,110,225],[ 91,110,225],[ 91,110,225],[ 91,110,225]\n",
        "  ],\n",
        "  [\n",
        "    [ 75,105, 47],[ 99,155,255],[ 91,110,225],[143, 86, 59],[ 91,110,225],[ 91,110,225],[ 75,105, 47],[ 91,110,225],[ 91,110,225],[ 91,110,225],[ 91,110,225],[ 91,110,225],[ 91,110,225],[ 91,110,225],[ 91,110,225],[ 91,110,225]\n",
        "  ],\n",
        "  [\n",
        "    [ 91,110,225],[ 91,110,225],[ 91,110,225],[143, 86, 59],[ 91,110,225],[ 91,110,225],[ 91,110,225],[ 91,110,225],[ 91,110,225],[ 91,110,225],[ 91,110,225],[ 91,110,225],[155,173,183],[155,173,183],[155,173,183],[155,173,183]\n",
        "  ],\n",
        "  [\n",
        "    [ 91,110,225],[ 91,110,225],[143, 86, 59],[143, 86, 59],[ 91,110,225],[ 91,110,225],[ 91,110,225],[ 91,110,225],[ 91,110,225],[155,173,183],[155,173,183],[155,173,183],[155,173,183],[155,173,183],[155,173,183],[155,173,183]\n",
        "  ],\n",
        "  [\n",
        "    [155,173,183],[155,173,183],[143, 86, 59],[143, 86, 59],[106,190, 48],[217,160,102],[155,173,183],[155,173,183],[217, 87, 99],[155,173,183],[217, 87, 99],[155,173,183],[155,173,183],[155,173,183],[155,173,183],[155,173,183]\n",
        "  ],\n",
        "  [\n",
        "    [155,173,183],[155,173,183],[143, 86, 59],[143, 86, 59],[217,160,102],[217,160,102],[155,173,183],[155,173,183],[155,173,183],[217, 87, 99],[155,173,183],[155,173,183],[155,173,183],[155,173,183],[155,173,183],[155,173,183]\n",
        "  ],\n",
        "  [\n",
        "    [155,173,183],[155,173,183],[155,173,183],[155,173,183],[155,173,183],[155,173,183],[155,173,183],[155,173,183],[155,173,183],[155,173,183],[155,173,183],[155,173,183],[155,173,183],[155,173,183],[155,173,183],[155,173,183]\n",
        "  ]\n",
        "]\n",
        "mp.imshow(picasso)\n",
        "# mp.show()"
      ],
      "metadata": {
        "id": "opkBpKkjOTiW"
      },
      "execution_count": null,
      "outputs": []
    },
    {
      "cell_type": "markdown",
      "source": [
        "Se puede comprobar las dimensiones de la matriz"
      ],
      "metadata": {
        "id": "9VkmFKwY_deL"
      }
    },
    {
      "cell_type": "code",
      "source": [
        "print(\"Ancho : \", end=\"\")\n",
        "print(len(picasso))\n",
        "print(\"Alto  : \", end=\"\")\n",
        "print(len(picasso[0]))\n",
        "print(\"Fondo : \", end=\"\")\n",
        "print(len(picasso[0][0]))"
      ],
      "metadata": {
        "id": "ms-1BRu3_hpB"
      },
      "execution_count": null,
      "outputs": []
    },
    {
      "cell_type": "markdown",
      "source": [
        "# Referencias bibliográficas"
      ],
      "metadata": {
        "id": "6rs5ElsOdxGv"
      }
    },
    {
      "cell_type": "markdown",
      "source": [
        "Para curiosiar mas de la librería MatPlotLib [matplotlib.ipynb](https://colab.research.google.com/github/juansensio/blog/blob/master/022_matplotlib/matplotlib.ipynb#scrollTo=qzNbPyO8OBGd)"
      ],
      "metadata": {
        "id": "aLao_QkBfxzk"
      }
    }
  ]
}