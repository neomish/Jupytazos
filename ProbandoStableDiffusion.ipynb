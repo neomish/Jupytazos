{
  "nbformat": 4,
  "nbformat_minor": 0,
  "metadata": {
    "colab": {
      "provenance": [],
      "gpuType": "T4"
    },
    "kernelspec": {
      "name": "python3",
      "display_name": "Python 3"
    },
    "language_info": {
      "name": "python"
    },
    "accelerator": "GPU"
  },
  "cells": [
    {
      "cell_type": "markdown",
      "source": [
        "\n",
        "# Prueba de difusores\n",
        "\n",
        "Stable Diffusion\n",
        "\n",
        "Link:  https://huggingface.co/stable-diffusion-v1-5/stable-diffusion-v1-5"
      ],
      "metadata": {
        "id": "ev-Wzdc0wrpM"
      }
    },
    {
      "cell_type": "markdown",
      "source": [
        "Stable Diffusion es un modelo de aprendizaje automático desarrollado por Runway y LMU Múnich​ para generar imágenes digitales de alta calidad a partir de descripciones en lenguaje natural o estímulos."
      ],
      "metadata": {
        "id": "SfC7Ru0kJ4aS"
      }
    },
    {
      "cell_type": "markdown",
      "source": [
        "Para poder usar las ventajas de Stable Difussion se necesita un procesador que permita realizar operaciones especiales con el modelo, es necesario un acelerador de procesamiento gráfico, como el de las tarejetas de aceleración gráfica para los videojuegos, se debe elegir T4 GPU en el entorno de ejecución."
      ],
      "metadata": {
        "id": "yiUiyqBQKSXv"
      }
    },
    {
      "cell_type": "markdown",
      "source": [
        "# Herramientas de apoyo"
      ],
      "metadata": {
        "id": "T0BH6FgDJCBh"
      }
    },
    {
      "cell_type": "markdown",
      "source": [
        "**Transformers** es una librería que facilita el uso de los modelos largos de lenguajes, sentencepiece es otra herramientaque que permite codificar y decodificar en tokens las consultas que se le hacen a un modelo largo de lenguaje, y accelerate permite detectar automáticamente el tipo de configuración distribuida que se tiene disponible en una máquina virtual e inicializará todos los componentes necesarios para el uso de un modelo largo de lenguaje."
      ],
      "metadata": {
        "id": "GPtnPAKGKcr-"
      }
    },
    {
      "cell_type": "markdown",
      "source": [
        "**Difusers** es otra librería, de hugging face, que es se utiliza como referencia para modelos de difusión previamente entrenados de última generación para generar imágenes, audio e incluso estructuras 3D de moléculas."
      ],
      "metadata": {
        "id": "Mowc_8paLB9w"
      }
    },
    {
      "cell_type": "markdown",
      "source": [
        "**IPython**, como librería, es la arquitectura sobre la cual trabaja un cuaderno de Jupyter, o sea, da la facilidad de interacción que ya se está usa en la herramienta actual... pero se puede usar como libería también para facilitar, en este caso, la muestra de imágenes desde la ejecución de códigos."
      ],
      "metadata": {
        "id": "7YQ_gDjlP_e4"
      }
    },
    {
      "cell_type": "code",
      "source": [
        "# Instalación de paquetes de python en la máquina virtual\n",
        "# 🤗 Transformers proporciona APIs para descargar y entrenar fácilmente modelos preentrenados de última generación\n",
        "!pip install transformers\n",
        "# Diffusers es la biblioteca que permite manejar datos difusos de modelos de artes preentrenados\n",
        "!pip install diffusers"
      ],
      "metadata": {
        "collapsed": true,
        "id": "CosKpRbfxIzl"
      },
      "execution_count": null,
      "outputs": []
    },
    {
      "cell_type": "markdown",
      "source": [
        "# Integrar las herramientas necesarias"
      ],
      "metadata": {
        "id": "T3j2UeAuJasd"
      }
    },
    {
      "cell_type": "markdown",
      "source": [
        "Una vez instaladas las herramientas se deben utilizar en los códigos de programación, para ello se utilizan las sentencias de import, con la que se agrega la facultad al programa de poder utilizarlas"
      ],
      "metadata": {
        "id": "iOW3P3GsJl36"
      }
    },
    {
      "cell_type": "code",
      "source": [
        "import torch                                   # Activar computación de Tensores con aceleración de GPU\n",
        "from diffusers import StableDiffusionPipeline  # Atajo para usar el modelo de arte pre-entrenados Stable Difussion\n",
        "from IPython.display import Image              # Se agrega el componente que permite leer y mostrar imagenes"
      ],
      "metadata": {
        "collapsed": true,
        "id": "rFeFLIl-yLOK"
      },
      "execution_count": null,
      "outputs": []
    },
    {
      "cell_type": "markdown",
      "source": [
        "# Descargar el modelo de Stable Diffusion"
      ],
      "metadata": {
        "id": "-_oht3X4KGT1"
      }
    },
    {
      "cell_type": "markdown",
      "source": [
        "Para poder usar el modelo se necesita descargarlo desde la web, este proceso tarda un poco, pero es normal, los modelos para IA en la actualidad son grandes."
      ],
      "metadata": {
        "id": "3ckSKbWCKRSx"
      }
    },
    {
      "cell_type": "code",
      "source": [
        "# Se utilizará una variable para que en caso futuro pueda modificarse la ruta o versión del modelo\n",
        "model_id = \"stable-diffusion-v1-5/stable-diffusion-v1-5\"\n",
        "# Se instancia una variable para indicar la descarga y forma de uso del modelo preentrenado\n",
        "sd_pipeline = StableDiffusionPipeline.from_pretrained( model_id, torch_dtype=torch.float16 )"
      ],
      "metadata": {
        "id": "04G_JNU9LDt1"
      },
      "execution_count": null,
      "outputs": []
    },
    {
      "cell_type": "markdown",
      "source": [
        "Luego de la descarga, hay que indicarle al modelo que tipo de arquitectura de procesamiento debe realizar, como la máquina virtual se configuró para que poseea tarjeta gráfica especial, se debe indicarle el tipo de aceleración que debera utilizar el modelo para generar imágenes."
      ],
      "metadata": {
        "id": "7AAcIw06LBUm"
      }
    },
    {
      "cell_type": "code",
      "source": [
        "# Se le indica que formato de procesador de aceleración debe usar para generar las imágenes\n",
        "sd_pipeline = sd_pipeline.to( \"cuda\" )"
      ],
      "metadata": {
        "id": "54HbW0MsLImy"
      },
      "execution_count": null,
      "outputs": []
    },
    {
      "cell_type": "markdown",
      "source": [
        "# Facilitando el uso del modelo Stable Diffusion"
      ],
      "metadata": {
        "id": "RLcpiYouLV8r"
      }
    },
    {
      "cell_type": "markdown",
      "source": [
        "Es de gran utilidad crear funciones, dado que facilitan el uso de conjuntos de instrucciones grandes donde utilizaremos pocos valores, valores que se pasarán como parámetros a la función, para usar el modelo de Stable Difussion con la tubería especial, lo bueno sería enviarle un prompt, pero también se le dará un prompt negativo para evitar que genere imágenes de mala calidad o muy extrañas"
      ],
      "metadata": {
        "id": "I9NtNH7-VwJq"
      }
    },
    {
      "cell_type": "code",
      "source": [
        "# Definir una función para indicarle al modelo que nos de una imagen mediante una orden\n",
        "def obtener_imagen( orden ) :\n",
        "    # Crear un prompt negativo, una lista de cosas que no queremos que considere para generar una imagen\n",
        "    lo_que_no_queremos = \"\"\"\n",
        "    simple_background,duplicate,low quality,lowest quality,\n",
        "    bad anatomy,bad proportions,extra digits,lowers,username,\n",
        "    artist name,error, duplicate,watermark,signature,text,\n",
        "    extra digit,fewer digits,worst quality,jpeg artifacts,blury\n",
        "    \"\"\"\n",
        "    # Devolver el resultado de la orden directamente con la imagen generada\n",
        "    return sd_pipeline( orden, negative_prompt = lo_que_no_queremos ).images[0]"
      ],
      "metadata": {
        "id": "0TanI5Sq0oy6"
      },
      "execution_count": null,
      "outputs": []
    },
    {
      "cell_type": "markdown",
      "source": [
        "# Probando el funcionamiento"
      ],
      "metadata": {
        "id": "DIJbPUByX5YO"
      }
    },
    {
      "cell_type": "markdown",
      "source": [
        "Con la función ya creada, se debe probar, utilizando un prompot simple, se le indicará en una variable que se desea generar y se usará la función para que devuelva la imagen, la guarde en la máquina virtual y luego la muestre"
      ],
      "metadata": {
        "id": "GtHvuGi1X9Sf"
      }
    },
    {
      "cell_type": "code",
      "source": [
        "# Se crea una variable con el prompt\n",
        "prompt = \"\"\"\n",
        "Gato pirata en lancha de madera\n",
        "\"\"\"\n",
        "# Se genera la imagen utilizando la función que se preparó previamente\n",
        "imagen_generada = obtener_imagen( prompt )\n",
        "# Guardar la imagen en la máquina virtual\n",
        "imagen_generada.save( \"./llama.jpg\" )\n",
        "# Mostrar el contenido del prompt que se usó\n",
        "print( prompt )\n",
        "# Mostrar la imagen guardada\n",
        "Image(\"./llama.jpg\")"
      ],
      "metadata": {
        "id": "mqoSVdkq3Ry_",
        "collapsed": true
      },
      "execution_count": null,
      "outputs": []
    },
    {
      "cell_type": "markdown",
      "source": [
        "# Lanzándola a la web"
      ],
      "metadata": {
        "id": "Fk3YW3FyZcg7"
      }
    },
    {
      "cell_type": "markdown",
      "source": [
        "Para permitir que el uso sea mucho más fácil, y además poder compartir con otras personas la creación de imágenes, se puede lograr mediante una aplicación web, y para eso se necesita una herramienta para crear ese tipo de aplicaciones"
      ],
      "metadata": {
        "id": "LK4xuYv3ZkpF"
      }
    },
    {
      "cell_type": "markdown",
      "source": [
        "# Instalando la herramienta para crear aplicaciones web"
      ],
      "metadata": {
        "id": "-EJ11kA4aCtL"
      }
    },
    {
      "cell_type": "markdown",
      "source": [
        "Se necesitará una herramienta que facilite crear interfaces amigables de tipo web, y gradio es otra librería que se puede utilizar para facilitar esa tarea, se instala con el administrador de paquetes pip"
      ],
      "metadata": {
        "id": "zFK2yHiraNJ8"
      }
    },
    {
      "cell_type": "code",
      "source": [
        "# Instalar otro paquete para python en la máquina virtual, pero con una versión específica\n",
        "!pip install gradio==3.48.0"
      ],
      "metadata": {
        "collapsed": true,
        "id": "5tqqe6C943h1"
      },
      "execution_count": null,
      "outputs": []
    },
    {
      "cell_type": "markdown",
      "source": [
        "# Integrando las herramientas para la web"
      ],
      "metadata": {
        "id": "fa2hgTnwaaCP"
      }
    },
    {
      "cell_type": "markdown",
      "source": [
        "Para utilizarla se importará como una libería, pero también se necesita otra librería especial para indicarle que la codificación del texto debe ser aceptable y con símbolos reconocibles en la web (*UTF-8*)"
      ],
      "metadata": {
        "id": "HxBciMGfae3s"
      }
    },
    {
      "cell_type": "code",
      "source": [
        "# Importar\n",
        "import locale        # Librería de configuración formato de carácteres para la web\n",
        "import gradio as gr  # Librería que facilita la creación de aplicaciones web"
      ],
      "metadata": {
        "id": "258dj8676Ad3"
      },
      "execution_count": null,
      "outputs": []
    },
    {
      "cell_type": "markdown",
      "source": [
        "# Eligiendo la codificación de textos de la aplicación web"
      ],
      "metadata": {
        "id": "aJa95MHXa-fo"
      }
    },
    {
      "cell_type": "markdown",
      "source": [
        "Se debe indicar que se usará la codificación especial UTF-8 a todos los textos que se generen para ser mostrados y utilizados en las interfaces web."
      ],
      "metadata": {
        "id": "JN8gL3x3bCy2"
      }
    },
    {
      "cell_type": "code",
      "source": [
        "# Definir la codificación de caractéres a utilizar con el formato UTF-8\n",
        "locale.getpreferredencoding = lambda: \"UTF-8\""
      ],
      "metadata": {
        "id": "egKHqZsNbWNq"
      },
      "execution_count": null,
      "outputs": []
    },
    {
      "cell_type": "markdown",
      "source": [
        "# Diseñando la interfaz de la aplicación web"
      ],
      "metadata": {
        "id": "H8oGPCaabSKR"
      }
    },
    {
      "cell_type": "markdown",
      "source": [
        "Para poder crear una interfaz web lo correcto es diseñar primero la idea:\n",
        "* Se necesitará inicialmente un espacio (textarea) para poder escribir el prompt de entrada\n",
        "* También deberá existir un espacio (imagen) para que se pueda mostrar la imagen generada\n",
        "* Asingar un título no es mala idea, identificará a la aplicación web\n",
        "* Y también una descripción de la aplicación para darle elegancia\n",
        "* Se puede indicar como serían unos ejemplos de prompt a utiizar\n",
        "\n",
        "Todos estos elementos serán útiles, pero realmente, lo mas importante es saber a que función se le hará responsable de recibir los valores, y que también nos devolverá una respuesta, la función a utilizar será la que se denominó como **obtener_imagen**"
      ],
      "metadata": {
        "id": "HFWkZzcubfjG"
      }
    },
    {
      "cell_type": "code",
      "source": [
        "# Diseño de la aplicación web\n",
        "# Una variable que definirá una caja para introducir texto\n",
        "caja_de_entrada  = gr.Textbox( label = \"Escribe Tu Prompt Aqui\" )\n",
        "# Otra variable que definirá una caja para mostrar texto\n",
        "caja_de_salida   = gr.Image(   label = \"Resultado\"              )\n",
        "# Una variable más para darle un título a la aplicación web\n",
        "titulo_de_mi_app = \"Generador de Imágenes Cheveres\"\n",
        "# Podría ser útil usar una variable para mostrar la descripción de la aplicación\n",
        "descripcion_app  = \"Herramienta para generar imágenes con Stable Diffusion\"\n",
        "# Un conjunto de ejemplos para poder utilizar como entradas de textos\n",
        "ejemplos         = [\n",
        "    \"Nave espacial de hormigas exploradoras\" ,\n",
        "    \"Barco de conejos cruzando el océano\"\n",
        "]\n",
        "# La agrupación de todo en una sola interfaz de gradio\n",
        "interfaz = gr.Interface(\n",
        "    fn             = obtener_imagen      ,\n",
        "    inputs         = [ caja_de_entrada ] ,\n",
        "    outputs        = [ caja_de_salida  ] ,\n",
        "    title          = titulo_de_mi_app    ,\n",
        "    description    = descripcion_app     ,\n",
        "    examples       = ejemplos            ,\n",
        "    allow_flagging = \"never\"               # Desaparece un botón llamado Flag\n",
        ")"
      ],
      "metadata": {
        "id": "tlzWTxYI7Qhb"
      },
      "execution_count": null,
      "outputs": []
    },
    {
      "cell_type": "markdown",
      "source": [
        "# Utilizando la aplicación web"
      ],
      "metadata": {
        "id": "TbFgIQ-HezK0"
      }
    },
    {
      "cell_type": "markdown",
      "source": [
        "El diseño que ya está listo debe ser ejecutado y puede ser también publicado, la herramienta grado permite utilziar la interfaz creada a travez de un tunel, publicando la interfaz y haciendola accesible a mas usuarios a través de Internet por lo que brindará una url para poder compartirla"
      ],
      "metadata": {
        "id": "a6b-I7iYe6lx"
      }
    },
    {
      "cell_type": "code",
      "source": [
        "#Lanzamiento de la aplicación web\n",
        "interfaz.launch( share = True )"
      ],
      "metadata": {
        "id": "3dVSDZA4_7fY",
        "collapsed": true
      },
      "execution_count": null,
      "outputs": []
    },
    {
      "cell_type": "markdown",
      "source": [
        "# Finalizando la aplicación web"
      ],
      "metadata": {
        "id": "jSBsgFTpfCFi"
      }
    },
    {
      "cell_type": "markdown",
      "source": [
        "Cuando ya se ha probado la aplicación es correcto detener el servicio para que no se desperdicie el tiempo de uso, tanto de las unidades de CPU de Google Colab, como el servicio de publicación de la herramienta del tunel al sitio de gradio"
      ],
      "metadata": {
        "id": "g9mA7FmYfK1s"
      }
    },
    {
      "cell_type": "code",
      "source": [
        "# Detener la aplciación web\n",
        "interfaz.close()"
      ],
      "metadata": {
        "id": "iapJd3H7fN7i"
      },
      "execution_count": null,
      "outputs": []
    }
  ]
}