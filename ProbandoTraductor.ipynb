{
  "nbformat": 4,
  "nbformat_minor": 0,
  "metadata": {
    "colab": {
      "provenance": [],
      "collapsed_sections": [
        "Z8QDEfxiQzYQ",
        "EsCHmgzCTnVe"
      ],
      "gpuType": "T4"
    },
    "kernelspec": {
      "name": "python3",
      "display_name": "Python 3"
    },
    "language_info": {
      "name": "python"
    },
    "accelerator": "GPU"
  },
  "cells": [
    {
      "cell_type": "markdown",
      "source": [
        "## Probando traductor\n"
      ],
      "metadata": {
        "id": "Z8QDEfxiQzYQ"
      }
    },
    {
      "cell_type": "markdown",
      "source": [
        " * Fuente: Language Technology Research Group at the University of Helsinki\n",
        " * Modelo: https://huggingface.co/Helsinki-NLP/opus-mt-es-en"
      ],
      "metadata": {
        "id": "Fq5sHKvVWLjH"
      }
    },
    {
      "cell_type": "code",
      "source": [
        "# Sugiere una librería faltante\n",
        "!pip install sacremoses"
      ],
      "metadata": {
        "id": "DuB_YXvjRfOO"
      },
      "execution_count": null,
      "outputs": []
    },
    {
      "cell_type": "code",
      "execution_count": null,
      "metadata": {
        "id": "ZRlBrkzPQwio"
      },
      "outputs": [],
      "source": [
        "# Librerías a utlizar\n",
        "from transformers import AutoTokenizer as AT, MarianMTModel as MT"
      ]
    },
    {
      "cell_type": "code",
      "source": [
        "# Descargar y configuración del modelo de traducción\n",
        "nombreDeModelo = f\"Helsinki-NLP/opus-mt-es-en\"\n",
        "traductor = MT.from_pretrained(nombreDeModelo)\n",
        "tokenizador = AT.from_pretrained(nombreDeModelo)"
      ],
      "metadata": {
        "id": "FHidAGoBSDtp"
      },
      "execution_count": null,
      "outputs": []
    },
    {
      "cell_type": "code",
      "source": [
        "def opus_traduce( texto_a_traducir ):\n",
        "    tokens = tokenizador.tokenize( texto_a_traducir )\n",
        "    lote = tokenizador( texto_a_traducir, return_tensors=\"pt\")\n",
        "    identificadores = traductor.generate(**lote)\n",
        "    traduccion = tokenizador.batch_decode(\n",
        "        identificadores,\n",
        "        skip_special_tokens=True\n",
        "    )\n",
        "    return traduccion[0]"
      ],
      "metadata": {
        "id": "z6dzvJiNSXOe"
      },
      "execution_count": null,
      "outputs": []
    },
    {
      "cell_type": "code",
      "source": [
        "prueba_de_texto = \"\"\"\n",
        "Es bueno poder probar con ainco la posiblidad de que todas las palabras\n",
        "que conocemos son traducibles a otro idioma\n",
        "¿Es posible que no conozca la palabra regurgitación o abolir?\n",
        "\"\"\"\n",
        "\n",
        "opus_traduce( prueba_de_texto )"
      ],
      "metadata": {
        "id": "Vbj-km79Sxtq"
      },
      "execution_count": null,
      "outputs": []
    },
    {
      "cell_type": "markdown",
      "source": [
        "# Aplicación Web"
      ],
      "metadata": {
        "id": "EsCHmgzCTnVe"
      }
    },
    {
      "cell_type": "markdown",
      "source": [
        "Cuando aparezca un mensaje si desea reiniciar, darle clic al botón **[cancelar]**"
      ],
      "metadata": {
        "id": "jjx-LkwVTrPr"
      }
    },
    {
      "cell_type": "code",
      "source": [
        "# Librería para generar interfaces web\n",
        "!pip install gradio==3.48.0"
      ],
      "metadata": {
        "id": "j6DLa864TQ5N"
      },
      "execution_count": null,
      "outputs": []
    },
    {
      "cell_type": "code",
      "source": [
        "# Importar librerías para gradio\n",
        "import locale\n",
        "import gradio as gr"
      ],
      "metadata": {
        "id": "pfKKSCaIT0kh"
      },
      "execution_count": null,
      "outputs": []
    },
    {
      "cell_type": "code",
      "source": [
        "locale.getpreferredencoding = lambda: \"UTF-8\""
      ],
      "metadata": {
        "id": "l0Ze7r86VthW"
      },
      "execution_count": null,
      "outputs": []
    },
    {
      "cell_type": "code",
      "source": [
        "caja_de_entrada  = gr.Textbox( label = \"Texto a traducir\" , lines = 6 )\n",
        "caja_de_salida   = gr.Textbox( label = \"Texto traducido\"  , lines = 6 )\n",
        "titulo_de_mi_app = \"Mi traductor de español a inglés con IA\"\n",
        "descripcion_app  = \"Traductor de idiomas que usa un modelo de IA\"\n",
        "ejemplos         = [\n",
        "    \"¿Será posible comprender en este vasto mundo los misterios que le atañen?\",\n",
        "    \"Puede pro favor ayudarme a conseguir una sopa de gallina bien calientita\" ,\n",
        "    \"¡Cuanto la catatrepa trepa, trepan los tres catetrepitos!\"\n",
        "]\n",
        "\n",
        "interfaz = gr.Interface(\n",
        "    fn             = opus_traduce        ,\n",
        "    inputs         = [ caja_de_entrada ] ,\n",
        "    outputs        = [ caja_de_salida  ] ,\n",
        "    title          = titulo_de_mi_app    ,\n",
        "    description    = descripcion_app     ,\n",
        "    examples       = ejemplos            ,\n",
        "    allow_flagging = \"never\"\n",
        ")"
      ],
      "metadata": {
        "id": "s6_I4H1eUMZg"
      },
      "execution_count": null,
      "outputs": []
    },
    {
      "cell_type": "code",
      "source": [
        "interfaz.launch( share = True )"
      ],
      "metadata": {
        "id": "kkk-Tu4GVzfx"
      },
      "execution_count": null,
      "outputs": []
    },
    {
      "cell_type": "code",
      "source": [
        "interfaz.close()"
      ],
      "metadata": {
        "id": "X2BOgTQnWB8f"
      },
      "execution_count": null,
      "outputs": []
    }
  ]
}
